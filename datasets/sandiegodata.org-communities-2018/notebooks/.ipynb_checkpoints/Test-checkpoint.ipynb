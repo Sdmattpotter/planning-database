{
 "cells": [
  {
   "cell_type": "code",
   "execution_count": 4,
   "metadata": {},
   "outputs": [],
   "source": [
    "import matplotlib.pyplot as plt \n",
    "%matplotlib inline\n",
    "import metapack as mp\n",
    "import pandas as pd\n",
    "import geopandas as gpd\n",
    "import numpy as np\n",
    "import seaborn as sns\n",
    "from rowgenerators import RowGenerator\n"
   ]
  },
  {
   "cell_type": "code",
   "execution_count": 6,
   "metadata": {},
   "outputs": [],
   "source": [
    "#pkg = mp.open_package('http://library.metatab.org/sandiegodata.org-communities-2018-3.zip')\n",
    "pkg = mp.jupyter.open_package()\n",
    "pkg"
   ]
  },
  {
   "cell_type": "code",
   "execution_count": 7,
   "metadata": {},
   "outputs": [
    {
     "data": {
      "text/html": [
       "<h2>Community and City and Tract Boundaries in San Diego County</h2>\n",
       "<p><p><em>Combines  geographic boundary files for communities, cities and tracts in San Diego County.</em></p>\n",
       "<p><small>sandiegodata.org-communities-2018-3 from metapack+file:///Users/eric/proj/virt-proj/data-project/sdrdl-data-projects/sandiegodata.org/sandiegodata.org-communities-2018/_packages/sandiegodata.org-communities-2018-3/metadata.csv</small></p></p>\n",
       "<p>This package combines three SANGIS datasets for communities and cities in San Diego county into a single file, in the <code>communities</code> resource, with Census tract definitions for San Diego count. The source files are: </p>\n",
       "<ul>\n",
       "<li>Municipal boundaries, of incorporated cities and the rest of the county</li>\n",
       "<li>Communities in unincorporated county areas</li>\n",
       "<li>Communities in San Diego. </li>\n",
       "<li>Census tract boundaries for 2016</li>\n",
       "</ul>\n",
       "<p>In addition to simply combining these four boundary files, the dataset also\n",
       "links tracts into the other three regions, in the `tracts_links<code>and</code>tracts_all_regions`` datasets. Using these datasets, you can get all of the\n",
       "tracts in Escondido, or all of the tracts in the San Diego community of\n",
       "Clairemont. The join is performed by containment of the Internal Point, which\n",
       "is defined by the census for each tract. Because tract boundaries are not\n",
       "always coincident with municipal boundaries, there are many cases where the\n",
       "collection of tracts for a city or community will have a different boundary\n",
       "than the actual region. Smaller, less densely populated regions, like San\n",
       "Marcos, or particuarly afected.</p>\n",
       "<p>The <code>tracts_links</code> dataset is probably the most useful. It joins tracts to regions,\n",
       "and has two sets of columns, for city and community. This dataset includes\n",
       "every tract in the county, and each appears only once. If a tract is included\n",
       "in both a city and community, then there is a name and code for both the city\n",
       "columns and the community columns. Regions not in a city have a city value of\n",
       "\"County\" and a city code of \"CN\".</p>\n",
       "<p>The <code>communities</code> dataset, has a <code>type</code> field to distinguish the types of area, which is one of: </p>\n",
       "<ul>\n",
       "<li>city</li>\n",
       "<li>county_community</li>\n",
       "<li>sd_community</li>\n",
       "<li>community</li>\n",
       "</ul>\n",
       "<p>The <code>tracts_all_regions</code> dataset may have more than one row for each tract;\n",
       "the tract will appear once for each of the four region types that it is in, but\n",
       "no tract is in more than 2 regions. For instance, a tract in a community of San\n",
       "Diego will appear twice, once for the community, and once for the City.</p>\n",
       "<h3>Documentation</h3>\n",
       "<ul>\n",
       "<li><strong><a href=\"doc/Community_Plan_SD.pdf\">San Diego City Community Shapefile Documentation</a></strong> None</li>\n",
       "<li><strong><a href=\"doc/Community_Plan_CN.pdf\">San Diego County Community Shapefile Documentation</a></strong> None</li>\n",
       "<li><strong><a href=\"doc/Municipal_Boundaries.pdf\">City Boundary Shapefile Documentation</a></strong> None</li>\n",
       "</ul>\n",
       "<h3>Contacts</h3>\n",
       "<p><strong>Wrangler:</strong> <a href=\"mailto:eric@civicknowledge.com\">Eric Busboom</a> <a href=\"http://civicknowledge.com\">Civic Knowledge</a>\n",
       "<strong>Publisher:</strong> <a href=\"mailto:eric@sandiegodata.org\">San Diego Regional Data Library</a> <a href=\"http://sandieogdata.org\">San Diego Regional Data Library</a></p>\n",
       "<h3>Resources</h3>\n",
       "<p><ol>\n",
       "<li><p><a target=\"_blank\" href=\"file:///Users/eric/proj/virt-proj/data-project/sdrdl-data-projects/sandiegodata.org/sandiegodata.org-communities-2018/_packages/sandiegodata.org-communities-2018-3/data/cities.csv\"><strong>cities</strong></a> Converted source of boundaries for cities in San  Diego county</p></li>\n",
       "<li><p><a target=\"_blank\" href=\"file:///Users/eric/proj/virt-proj/data-project/sdrdl-data-projects/sandiegodata.org/sandiegodata.org-communities-2018/_packages/sandiegodata.org-communities-2018-3/data/county_communities.csv\"><strong>county_communities</strong></a> Converted source of boundaries for communities in unincorporated  San  Diego county</p></li>\n",
       "<li><p><a target=\"_blank\" href=\"file:///Users/eric/proj/virt-proj/data-project/sdrdl-data-projects/sandiegodata.org/sandiegodata.org-communities-2018/_packages/sandiegodata.org-communities-2018-3/data/sd_communities.csv\"><strong>sd_communities</strong></a> Converted source of boundaries for communities in the city of  San  Diego.</p></li>\n",
       "<li><p><a target=\"_blank\" href=\"file:///Users/eric/proj/virt-proj/data-project/sdrdl-data-projects/sandiegodata.org/sandiegodata.org-communities-2018/_packages/sandiegodata.org-communities-2018-3/data/tracts.csv\"><strong>tracts</strong></a> Tract boundary shapes</p></li>\n",
       "<li><p><a target=\"_blank\" href=\"file:///Users/eric/proj/virt-proj/data-project/sdrdl-data-projects/sandiegodata.org/sandiegodata.org-communities-2018/_packages/sandiegodata.org-communities-2018-3/data/communities.csv\"><strong>communities</strong></a> Combined cities and community files</p></li>\n",
       "<li><p><a target=\"_blank\" href=\"file:///Users/eric/proj/virt-proj/data-project/sdrdl-data-projects/sandiegodata.org/sandiegodata.org-communities-2018/_packages/sandiegodata.org-communities-2018-3/data/tracts_all_regions.csv\"><strong>tracts_all_regions</strong></a> Link between tracts and cities, communities and county regions</p></li>\n",
       "<li><p><a target=\"_blank\" href=\"file:///Users/eric/proj/virt-proj/data-project/sdrdl-data-projects/sandiegodata.org/sandiegodata.org-communities-2018/_packages/sandiegodata.org-communities-2018-3/data/tract_links.csv\"><strong>tract_links</strong></a> Link between tracts and cities, communities and county regions</p></li></p>\n",
       "</ol>\n",
       "\n",
       "<h3>References</h3>\n",
       "<p><ol>\n",
       "<li><p><a target=\"_blank\" href=\"censusgeo://2016/5/CA/140\"><strong>california_tracts</strong></a> Tract boundary shapes</p></li>\n",
       "<li><p><a target=\"_blank\" href=\"file:///Users/eric/proj/virt-proj/data-project/sdrdl-data-projects/sandiegodata.org/sandiegodata.org-communities-2018/_packages/sandiegodata.org-communities-2018-3/data/community-acronyms.csv\"><strong>acronyms</strong></a> Acronyms for communities</p></li></p>\n",
       "</ol>"
      ],
      "text/plain": [
       "<metapack.doc.MetapackDoc at 0x11edbaef0>"
      ]
     },
     "execution_count": 7,
     "metadata": {},
     "output_type": "execute_result"
    }
   ],
   "source": [
    "pkg"
   ]
  },
  {
   "cell_type": "code",
   "execution_count": null,
   "metadata": {},
   "outputs": [],
   "source": [
    "tracts = pkg.resource('tract_links').geoframe().fillna('')\n",
    "tracts.head()"
   ]
  },
  {
   "cell_type": "code",
   "execution_count": null,
   "metadata": {},
   "outputs": [],
   "source": [
    "tracts.plot(column='community_name')"
   ]
  },
  {
   "cell_type": "code",
   "execution_count": null,
   "metadata": {},
   "outputs": [],
   "source": [
    "tracts.community_name.value_counts()"
   ]
  },
  {
   "cell_type": "code",
   "execution_count": null,
   "metadata": {},
   "outputs": [],
   "source": []
  }
 ],
 "metadata": {
  "kernelspec": {
   "display_name": "Python 3",
   "language": "python",
   "name": "python3"
  },
  "language_info": {
   "codemirror_mode": {
    "name": "ipython",
    "version": 3
   },
   "file_extension": ".py",
   "mimetype": "text/x-python",
   "name": "python",
   "nbconvert_exporter": "python",
   "pygments_lexer": "ipython3",
   "version": "3.6.0"
  }
 },
 "nbformat": 4,
 "nbformat_minor": 2
}
