{
 "cells": [
  {
   "cell_type": "code",
   "execution_count": 13,
   "metadata": {},
   "outputs": [],
   "source": [
    "import metapack as mp\n",
    "import matplotlib.pylab as plt\n",
    "%matplotlib inline"
   ]
  },
  {
   "cell_type": "code",
   "execution_count": 4,
   "metadata": {},
   "outputs": [
    {
     "data": {
      "text/html": [
       "<h1>Tract data related to siting a private school</h1>\n",
       "<p><code>sandiegodata.org-private_school-1</code> Last Update: 2018-10-07T17:07:16</p>\n",
       "<p>__</p>\n",
       "<h2>Contacts</h2>\n",
       "<ul>\n",
       "<li><strong>Wrangler</strong> <a href=\"mailto:eric@civicknowledge.com\">Eric Busboom</a>, <a href=\"http://civicknowledge.com\">Civic Knowledge</a></li>\n",
       "</ul>\n",
       "<h2>Resources</h2>\n",
       "<ul>\n",
       "<li><strong> <a href=\"data/ps_extract.csv\">ps_extract</a></strong>. Column extract from source planning database</li>\n",
       "</ul>\n",
       "<h2>References</h2>\n",
       "<ul>\n",
       "<li><strong><a href=\"metapack+http://library.metatab.org/sandiegodata.org-planning-tracts-4.csv#sandiego_planning_db\">source_pdb</a></strong>. Source database</li>\n",
       "<li><strong><a href=\"metapack+http://library.metatab.org/sandiegodata.org-communities-2018-5.zip#tracts\">tracts</a></strong>. Tract Boundaries</li>\n",
       "</ul>"
      ],
      "text/plain": [
       "<metapack.doc.MetapackDoc at 0x111b50f28>"
      ]
     },
     "execution_count": 4,
     "metadata": {},
     "output_type": "execute_result"
    }
   ],
   "source": [
    "pkg = mp.jupyter.open_package()\n",
    "pkg"
   ]
  },
  {
   "cell_type": "code",
   "execution_count": 5,
   "metadata": {},
   "outputs": [],
   "source": [
    "df = pkg.resource('ps_extract').dataframe()"
   ]
  },
  {
   "cell_type": "code",
   "execution_count": 7,
   "metadata": {
    "scrolled": true
   },
   "outputs": [
    {
     "data": {
      "text/html": [
       "<div>\n",
       "<style scoped>\n",
       "    .dataframe tbody tr th:only-of-type {\n",
       "        vertical-align: middle;\n",
       "    }\n",
       "\n",
       "    .dataframe tbody tr th {\n",
       "        vertical-align: top;\n",
       "    }\n",
       "\n",
       "    .dataframe thead th {\n",
       "        text-align: right;\n",
       "    }\n",
       "</style>\n",
       "<table border=\"1\" class=\"dataframe\">\n",
       "  <thead>\n",
       "    <tr style=\"text-align: right;\">\n",
       "      <th></th>\n",
       "      <th>geoid</th>\n",
       "      <th>land_area</th>\n",
       "      <th>total_population</th>\n",
       "      <th>population_5_17</th>\n",
       "      <th>population_nh_white</th>\n",
       "      <th>population_college_degree</th>\n",
       "      <th>median_household_income</th>\n",
       "      <th>aggregate_household_income</th>\n",
       "      <th>average_agg_household_income</th>\n",
       "      <th>average_agg_house_value</th>\n",
       "    </tr>\n",
       "  </thead>\n",
       "  <tbody>\n",
       "    <tr>\n",
       "      <th>0</th>\n",
       "      <td>14000US06073000100</td>\n",
       "      <td>0.595</td>\n",
       "      <td>2773</td>\n",
       "      <td>294</td>\n",
       "      <td>2276</td>\n",
       "      <td>1681</td>\n",
       "      <td>127353.0</td>\n",
       "      <td>283406300.0</td>\n",
       "      <td>220036.0</td>\n",
       "      <td>1005837.0</td>\n",
       "    </tr>\n",
       "    <tr>\n",
       "      <th>1</th>\n",
       "      <td>14000US06073000201</td>\n",
       "      <td>0.334</td>\n",
       "      <td>2158</td>\n",
       "      <td>140</td>\n",
       "      <td>1628</td>\n",
       "      <td>1139</td>\n",
       "      <td>98669.0</td>\n",
       "      <td>119734300.0</td>\n",
       "      <td>114798.0</td>\n",
       "      <td>389221.0</td>\n",
       "    </tr>\n",
       "    <tr>\n",
       "      <th>2</th>\n",
       "      <td>14000US06073000202</td>\n",
       "      <td>0.506</td>\n",
       "      <td>4828</td>\n",
       "      <td>449</td>\n",
       "      <td>3477</td>\n",
       "      <td>2474</td>\n",
       "      <td>61381.0</td>\n",
       "      <td>211142900.0</td>\n",
       "      <td>90542.0</td>\n",
       "      <td>270988.0</td>\n",
       "    </tr>\n",
       "    <tr>\n",
       "      <th>3</th>\n",
       "      <td>14000US06073000300</td>\n",
       "      <td>0.349</td>\n",
       "      <td>4946</td>\n",
       "      <td>111</td>\n",
       "      <td>3437</td>\n",
       "      <td>2676</td>\n",
       "      <td>63667.0</td>\n",
       "      <td>240566100.0</td>\n",
       "      <td>85733.0</td>\n",
       "      <td>175043.0</td>\n",
       "    </tr>\n",
       "    <tr>\n",
       "      <th>4</th>\n",
       "      <td>14000US06073000400</td>\n",
       "      <td>0.456</td>\n",
       "      <td>3916</td>\n",
       "      <td>194</td>\n",
       "      <td>2655</td>\n",
       "      <td>1881</td>\n",
       "      <td>67794.0</td>\n",
       "      <td>197192600.0</td>\n",
       "      <td>90705.0</td>\n",
       "      <td>120083.0</td>\n",
       "    </tr>\n",
       "  </tbody>\n",
       "</table>\n",
       "</div>"
      ],
      "text/plain": [
       "                geoid  land_area  total_population  population_5_17  \\\n",
       "0  14000US06073000100      0.595              2773              294   \n",
       "1  14000US06073000201      0.334              2158              140   \n",
       "2  14000US06073000202      0.506              4828              449   \n",
       "3  14000US06073000300      0.349              4946              111   \n",
       "4  14000US06073000400      0.456              3916              194   \n",
       "\n",
       "   population_nh_white  population_college_degree  median_household_income  \\\n",
       "0                 2276                       1681                 127353.0   \n",
       "1                 1628                       1139                  98669.0   \n",
       "2                 3477                       2474                  61381.0   \n",
       "3                 3437                       2676                  63667.0   \n",
       "4                 2655                       1881                  67794.0   \n",
       "\n",
       "   aggregate_household_income  average_agg_household_income  \\\n",
       "0                 283406300.0                      220036.0   \n",
       "1                 119734300.0                      114798.0   \n",
       "2                 211142900.0                       90542.0   \n",
       "3                 240566100.0                       85733.0   \n",
       "4                 197192600.0                       90705.0   \n",
       "\n",
       "   average_agg_house_value  \n",
       "0                1005837.0  \n",
       "1                 389221.0  \n",
       "2                 270988.0  \n",
       "3                 175043.0  \n",
       "4                 120083.0  "
      ]
     },
     "execution_count": 7,
     "metadata": {},
     "output_type": "execute_result"
    }
   ],
   "source": [
    "df.head()"
   ]
  },
  {
   "cell_type": "code",
   "execution_count": 9,
   "metadata": {},
   "outputs": [],
   "source": [
    "df['pop_density'] = df.total_population / df.land_area\n",
    "df['hh_income_density'] = df.aggregate_household_income /  df.land_area\n",
    "df['student_density'] = df.population_5_17 /  df.land_area"
   ]
  },
  {
   "cell_type": "code",
   "execution_count": 10,
   "metadata": {},
   "outputs": [],
   "source": [
    "tracts = pkg.reference('tracts').geoframe()"
   ]
  },
  {
   "cell_type": "code",
   "execution_count": 18,
   "metadata": {},
   "outputs": [
    {
     "data": {
      "text/plain": [
       "<matplotlib.axes._subplots.AxesSubplot at 0x12a354128>"
      ]
     },
     "execution_count": 18,
     "metadata": {},
     "output_type": "execute_result"
    },
    {
     "data": {
      "image/png": "[encoded data removed]",
      "text/plain": [
       "<Figure size 432x288 with 1 Axes>"
      ]
     },
     "metadata": {
      "needs_background": "light"
     },
     "output_type": "display_data"
    }
   ],
   "source": [
    "gdf = tracts.set_index('geoid').join(df.set_index('geoid'))\n",
    "gdf.dropna().plot(column='student_density')"
   ]
  },
  {
   "cell_type": "code",
   "execution_count": 17,
   "metadata": {},
   "outputs": [
    {
     "data": {
      "text/html": [
       "<div>\n",
       "<style scoped>\n",
       "    .dataframe tbody tr th:only-of-type {\n",
       "        vertical-align: middle;\n",
       "    }\n",
       "\n",
       "    .dataframe tbody tr th {\n",
       "        vertical-align: top;\n",
       "    }\n",
       "\n",
       "    .dataframe thead th {\n",
       "        text-align: right;\n",
       "    }\n",
       "</style>\n",
       "<table border=\"1\" class=\"dataframe\">\n",
       "  <thead>\n",
       "    <tr style=\"text-align: right;\">\n",
       "      <th></th>\n",
       "      <th>0</th>\n",
       "      <th>1</th>\n",
       "      <th>2</th>\n",
       "      <th>3</th>\n",
       "      <th>4</th>\n",
       "    </tr>\n",
       "  </thead>\n",
       "  <tbody>\n",
       "    <tr>\n",
       "      <th>geoid</th>\n",
       "      <td>14000US06073000100</td>\n",
       "      <td>14000US06073000201</td>\n",
       "      <td>14000US06073000202</td>\n",
       "      <td>14000US06073000300</td>\n",
       "      <td>14000US06073000400</td>\n",
       "    </tr>\n",
       "    <tr>\n",
       "      <th>land_area</th>\n",
       "      <td>0.595</td>\n",
       "      <td>0.334</td>\n",
       "      <td>0.506</td>\n",
       "      <td>0.349</td>\n",
       "      <td>0.456</td>\n",
       "    </tr>\n",
       "    <tr>\n",
       "      <th>total_population</th>\n",
       "      <td>2773</td>\n",
       "      <td>2158</td>\n",
       "      <td>4828</td>\n",
       "      <td>4946</td>\n",
       "      <td>3916</td>\n",
       "    </tr>\n",
       "    <tr>\n",
       "      <th>population_5_17</th>\n",
       "      <td>294</td>\n",
       "      <td>140</td>\n",
       "      <td>449</td>\n",
       "      <td>111</td>\n",
       "      <td>194</td>\n",
       "    </tr>\n",
       "    <tr>\n",
       "      <th>population_nh_white</th>\n",
       "      <td>2276</td>\n",
       "      <td>1628</td>\n",
       "      <td>3477</td>\n",
       "      <td>3437</td>\n",
       "      <td>2655</td>\n",
       "    </tr>\n",
       "    <tr>\n",
       "      <th>population_college_degree</th>\n",
       "      <td>1681</td>\n",
       "      <td>1139</td>\n",
       "      <td>2474</td>\n",
       "      <td>2676</td>\n",
       "      <td>1881</td>\n",
       "    </tr>\n",
       "    <tr>\n",
       "      <th>median_household_income</th>\n",
       "      <td>127353</td>\n",
       "      <td>98669</td>\n",
       "      <td>61381</td>\n",
       "      <td>63667</td>\n",
       "      <td>67794</td>\n",
       "    </tr>\n",
       "    <tr>\n",
       "      <th>aggregate_household_income</th>\n",
       "      <td>2.83406e+08</td>\n",
       "      <td>1.19734e+08</td>\n",
       "      <td>2.11143e+08</td>\n",
       "      <td>2.40566e+08</td>\n",
       "      <td>1.97193e+08</td>\n",
       "    </tr>\n",
       "    <tr>\n",
       "      <th>average_agg_household_income</th>\n",
       "      <td>220036</td>\n",
       "      <td>114798</td>\n",
       "      <td>90542</td>\n",
       "      <td>85733</td>\n",
       "      <td>90705</td>\n",
       "    </tr>\n",
       "    <tr>\n",
       "      <th>average_agg_house_value</th>\n",
       "      <td>1.00584e+06</td>\n",
       "      <td>389221</td>\n",
       "      <td>270988</td>\n",
       "      <td>175043</td>\n",
       "      <td>120083</td>\n",
       "    </tr>\n",
       "    <tr>\n",
       "      <th>pop_density</th>\n",
       "      <td>4660.5</td>\n",
       "      <td>6461.08</td>\n",
       "      <td>9541.5</td>\n",
       "      <td>14171.9</td>\n",
       "      <td>8587.72</td>\n",
       "    </tr>\n",
       "    <tr>\n",
       "      <th>hh_income_dnsity</th>\n",
       "      <td>4.76313e+08</td>\n",
       "      <td>3.58486e+08</td>\n",
       "      <td>4.17278e+08</td>\n",
       "      <td>6.89301e+08</td>\n",
       "      <td>4.3244e+08</td>\n",
       "    </tr>\n",
       "    <tr>\n",
       "      <th>student_density</th>\n",
       "      <td>494.118</td>\n",
       "      <td>419.162</td>\n",
       "      <td>887.352</td>\n",
       "      <td>318.052</td>\n",
       "      <td>425.439</td>\n",
       "    </tr>\n",
       "  </tbody>\n",
       "</table>\n",
       "</div>"
      ],
      "text/plain": [
       "                                               0                   1  \\\n",
       "geoid                         14000US06073000100  14000US06073000201   \n",
       "land_area                                  0.595               0.334   \n",
       "total_population                            2773                2158   \n",
       "population_5_17                              294                 140   \n",
       "population_nh_white                         2276                1628   \n",
       "population_college_degree                   1681                1139   \n",
       "median_household_income                   127353               98669   \n",
       "aggregate_household_income           2.83406e+08         1.19734e+08   \n",
       "average_agg_household_income              220036              114798   \n",
       "average_agg_house_value              1.00584e+06              389221   \n",
       "pop_density                               4660.5             6461.08   \n",
       "hh_income_dnsity                     4.76313e+08         3.58486e+08   \n",
       "student_density                          494.118             419.162   \n",
       "\n",
       "                                               2                   3  \\\n",
       "geoid                         14000US06073000202  14000US06073000300   \n",
       "land_area                                  0.506               0.349   \n",
       "total_population                            4828                4946   \n",
       "population_5_17                              449                 111   \n",
       "population_nh_white                         3477                3437   \n",
       "population_college_degree                   2474                2676   \n",
       "median_household_income                    61381               63667   \n",
       "aggregate_household_income           2.11143e+08         2.40566e+08   \n",
       "average_agg_household_income               90542               85733   \n",
       "average_agg_house_value                   270988              175043   \n",
       "pop_density                               9541.5             14171.9   \n",
       "hh_income_dnsity                     4.17278e+08         6.89301e+08   \n",
       "student_density                          887.352             318.052   \n",
       "\n",
       "                                               4  \n",
       "geoid                         14000US06073000400  \n",
       "land_area                                  0.456  \n",
       "total_population                            3916  \n",
       "population_5_17                              194  \n",
       "population_nh_white                         2655  \n",
       "population_college_degree                   1881  \n",
       "median_household_income                    67794  \n",
       "aggregate_household_income           1.97193e+08  \n",
       "average_agg_household_income               90705  \n",
       "average_agg_house_value                   120083  \n",
       "pop_density                              8587.72  \n",
       "hh_income_dnsity                      4.3244e+08  \n",
       "student_density                          425.439  "
      ]
     },
     "execution_count": 17,
     "metadata": {},
     "output_type": "execute_result"
    }
   ],
   "source": [
    "df.head().T"
   ]
  },
  {
   "cell_type": "code",
   "execution_count": 19,
   "metadata": {},
   "outputs": [
    {
     "data": {
      "text/plain": [
       "{'AeronavFAA': 'r',\n",
       " 'ARCGEN': 'r',\n",
       " 'BNA': 'raw',\n",
       " 'DXF': 'raw',\n",
       " 'OpenFileGDB': 'r',\n",
       " 'ESRI Shapefile': 'raw',\n",
       " 'GeoJSON': 'rw',\n",
       " 'GPKG': 'rw',\n",
       " 'GPX': 'raw',\n",
       " 'GPSTrackMaker': 'raw',\n",
       " 'Idrisi': 'r',\n",
       " 'MapInfo File': 'raw',\n",
       " 'DGN': 'raw',\n",
       " 'PCIDSK': 'r',\n",
       " 'SEGY': 'r',\n",
       " 'SUA': 'r'}"
      ]
     },
     "execution_count": 19,
     "metadata": {},
     "output_type": "execute_result"
    }
   ],
   "source": [
    "import fiona; fiona.supported_drivers"
   ]
  },
  {
   "cell_type": "code",
   "execution_count": 20,
   "metadata": {},
   "outputs": [],
   "source": [
    "gdf.to_csv('students.csv')"
   ]
  },
  {
   "cell_type": "code",
   "execution_count": null,
   "metadata": {},
   "outputs": [],
   "source": []
  }
 ],
 "metadata": {
  "kernelspec": {
   "display_name": "Python 3",
   "language": "python",
   "name": "python3"
  },
  "language_info": {
   "codemirror_mode": {
    "name": "ipython",
    "version": 3
   },
   "file_extension": ".py",
   "mimetype": "text/x-python",
   "name": "python",
   "nbconvert_exporter": "python",
   "pygments_lexer": "ipython3",
   "version": "3.6.5"
  }
 },
 "nbformat": 4,
 "nbformat_minor": 2
}
