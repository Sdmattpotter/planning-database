{
 "cells": [
  {
   "cell_type": "code",
   "execution_count": 1,
   "metadata": {},
   "outputs": [],
   "source": [
    "import matplotlib.pyplot as plt \n",
    "%matplotlib inline\n",
    "import metapack as mp\n",
    "import pandas as pd\n",
    "import geopandas as gpd\n",
    "import numpy as np\n",
    "import seaborn as sns\n",
    "from rowgenerators import RowGenerator"
   ]
  },
  {
   "cell_type": "code",
   "execution_count": 2,
   "metadata": {},
   "outputs": [
    {
     "data": {
      "text/html": [
       "<h2>sandiegodata.org-planning-1</h2>\n",
       "<p><p><em></em></p>\n",
       "<p><small>sandiegodata.org-planning-1 from metapack+file:///Users/eric/proj/virt-proj/data-project/sdrdl-data-projects/census.gov/sandiegodata.org-planning/_packages/sandiegodata.org-planning-1/metadata.csv</small></p></p>\n",
       "<h3>Documentation</h3>\n",
       "<ul>\n",
       "<li><strong><a href=\"https://www.census.gov/research/data/planning_database/2018/docs/2018_Tract_PDB_Documentation_V4.pdf\">Tract PDB Documentation</a></strong> None</li>\n",
       "</ul>\n",
       "<h3>Contacts</h3>\n",
       "<p><strong>Wrangler:</strong> <a href=\"mailto:eric@civicknowledge.com\">Eric Busboom</a> <a href=\"http://civicknowledge.com\">Civic Knowledge</a></p>\n",
       "<h3>Resources</h3>\n",
       "<p><ol>\n",
       "<li><p><a target=\"_blank\" href=\"file:///Users/eric/proj/virt-proj/data-project/sdrdl-data-projects/census.gov/sandiegodata.org-planning/_packages/sandiegodata.org-planning-1/data/sandiego_planning_db.csv\"><strong>sandiego_planning_db</strong></a> </p></li>\n",
       "<li><p><a target=\"_blank\" href=\"file:///Users/eric/proj/virt-proj/data-project/sdrdl-data-projects/census.gov/sandiegodata.org-planning/_packages/sandiegodata.org-planning-1/data/sandiego_planning_db_geo.csv\"><strong>sandiego_planning_db_geo</strong></a> </p></li></p>\n",
       "</ol>\n",
       "\n",
       "<h3>References</h3>\n",
       "<p><ol>\n",
       "<li><p><a target=\"_blank\" href=\"https://www.census.gov/research/data/planning_database/2018/docs/pdb2018trv4_us.zip#&encoding=latin1\"><strong>census_planning_database</strong></a> Source file for the planning database.</p></li>\n",
       "<li><p><a target=\"_blank\" href=\"censusgeo://2016/5/CA/140\"><strong>tract_boundaries</strong></a> Tract boundary shapes</p></li>\n",
       "<li><p><a target=\"_blank\" href=\"metapack+http://library.metatab.org/sangis.org-communities-2018-1.zip#communities\"><strong>communities</strong></a> San Diego Communities</p></li></p>\n",
       "</ol>"
      ],
      "text/plain": [
       "<metapack.doc.MetapackDoc at 0x1198a3860>"
      ]
     },
     "execution_count": 2,
     "metadata": {},
     "output_type": "execute_result"
    }
   ],
   "source": [
    "pkg = mp.jupyter.open_package()\n",
    "pkg"
   ]
  },
  {
   "cell_type": "code",
   "execution_count": null,
   "metadata": {},
   "outputs": [],
   "source": []
  }
 ],
 "metadata": {
  "kernelspec": {
   "display_name": "Python 3",
   "language": "python",
   "name": "python3"
  },
  "language_info": {
   "codemirror_mode": {
    "name": "ipython",
    "version": 3
   },
   "file_extension": ".py",
   "mimetype": "text/x-python",
   "name": "python",
   "nbconvert_exporter": "python",
   "pygments_lexer": "ipython3",
   "version": "3.6.0"
  }
 },
 "nbformat": 4,
 "nbformat_minor": 2
}
